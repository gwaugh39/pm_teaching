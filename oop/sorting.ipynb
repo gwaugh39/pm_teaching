{
 "cells": [
  {
   "cell_type": "code",
   "execution_count": 1,
   "id": "aa463709-9e07-445e-a6a2-7f8ad61cfbbf",
   "metadata": {},
   "outputs": [],
   "source": [
    "class lt:\n",
    "    def __init__(self, val):\n",
    "        self.val = val\n",
    "        \n",
    "    def __lt__(self, other):\n",
    "        return self.val < other.val"
   ]
  },
  {
   "cell_type": "code",
   "execution_count": 2,
   "id": "feb862a9-4e8e-4425-a552-72a1d5b38e80",
   "metadata": {},
   "outputs": [],
   "source": [
    "class gt:\n",
    "    def __init__(self, val):\n",
    "        self.val = val\n",
    "        \n",
    "    def __gt__(self, other):\n",
    "        return self.val > other.val"
   ]
  },
  {
   "cell_type": "code",
   "execution_count": 3,
   "id": "13fe72d9-244e-44e4-89ae-22b11177a84e",
   "metadata": {},
   "outputs": [],
   "source": [
    "class eq:\n",
    "    def __init__(self, val):\n",
    "        self.val = val\n",
    "        \n",
    "    def __eq__(self, other):\n",
    "        return self.val == other.val"
   ]
  },
  {
   "cell_type": "code",
   "execution_count": 4,
   "id": "2120137d-18c3-454d-b426-81a95038cead",
   "metadata": {},
   "outputs": [],
   "source": [
    "class le:\n",
    "    def __init__(self, val):\n",
    "        self.val = val\n",
    "        \n",
    "    def __le__(self, other):\n",
    "        return self.val <= other.val"
   ]
  },
  {
   "cell_type": "code",
   "execution_count": 5,
   "id": "c96b2360-2d8b-4b41-b1bc-81b52de3e037",
   "metadata": {},
   "outputs": [],
   "source": [
    "class ne:\n",
    "    def __init__(self, val):\n",
    "        self.val = val\n",
    "        \n",
    "    def __lt__(self, other):\n",
    "        return self.val != other.val"
   ]
  },
  {
   "cell_type": "code",
   "execution_count": null,
   "id": "84e192c2-c6c7-4059-93b4-713aeee646d7",
   "metadata": {},
   "outputs": [],
   "source": [
    "class ge:\n",
    "    def __init__(self, val):\n",
    "        self.val = val\n",
    "        \n",
    "    def __lt__(self, other):\n",
    "        return self.val >= other.val"
   ]
  }
 ],
 "metadata": {
  "kernelspec": {
   "display_name": "Python 3 (ipykernel)",
   "language": "python",
   "name": "python3"
  },
  "language_info": {
   "codemirror_mode": {
    "name": "ipython",
    "version": 3
   },
   "file_extension": ".py",
   "mimetype": "text/x-python",
   "name": "python",
   "nbconvert_exporter": "python",
   "pygments_lexer": "ipython3",
   "version": "3.10.6"
  }
 },
 "nbformat": 4,
 "nbformat_minor": 5
}
